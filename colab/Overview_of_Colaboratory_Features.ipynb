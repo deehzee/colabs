{
  "cells": [
    {
      "cell_type": "markdown",
      "metadata": {
        "id": "view-in-github",
        "colab_type": "text"
      },
      "source": [
        "<a href=\"https://colab.research.google.com/github/deehzee/colabs/blob/main/colab/Overview_of_Colaboratory_Features.ipynb\" target=\"_parent\"><img src=\"https://colab.research.google.com/assets/colab-badge.svg\" alt=\"Open In Colab\"/></a>"
      ]
    },
    {
      "cell_type": "markdown",
      "metadata": {
        "id": "JyG45Qk3qQLS"
      },
      "source": [
        "# Cells\n",
        "A notebook is a list of cells. Cells contain either explanatory text or executable code and its output. Click a cell to select it."
      ]
    },
    {
      "cell_type": "markdown",
      "metadata": {
        "id": "KR921S_OQSHG"
      },
      "source": [
        "## Code cells\n",
        "Below is a **code cell**. Once the toolbar button indicates CONNECTED, click in the cell to select it and execute the contents in the following ways:\n",
        "\n",
        "* Click the **Play icon** in the left gutter of the cell;\n",
        "* Type **Cmd/Ctrl+Enter** to run the cell in place;\n",
        "* Type **Shift+Enter** to run the cell and move focus to the next cell (adding one if none exists); or\n",
        "* Type **Alt+Enter** to run the cell and insert a new code cell immediately below it.\n",
        "\n",
        "There are additional options for running some or all cells in the **Runtime** menu.\n"
      ]
    },
    {
      "cell_type": "code",
      "execution_count": 1,
      "metadata": {
        "cellView": "both",
        "colab": {
          "base_uri": "https://localhost:8080/"
        },
        "id": "WUtu4316QSHL",
        "outputId": "3ba8efad-c603-42ae-9ce6-3184a44c86c0"
      },
      "outputs": [
        {
          "output_type": "execute_result",
          "data": {
            "text/plain": [
              "10"
            ]
          },
          "metadata": {},
          "execution_count": 1
        }
      ],
      "source": [
        "a = 10\n",
        "a"
      ]
    },
    {
      "cell_type": "markdown",
      "metadata": {
        "id": "Id6tDF1HQSHD"
      },
      "source": [
        "## Text cells\n",
        "This is a **text cell**. You can **double-click** to edit this cell. Text cells\n",
        "use markdown syntax. To learn more, see our [markdown\n",
        "guide](/notebooks/markdown_guide.ipynb).\n",
        "\n",
        "You can also add math to text cells using [LaTeX](http://www.latex-project.org/)\n",
        "to be rendered by [MathJax](https://www.mathjax.org). Just place the statement\n",
        "within a pair of **\\$** signs (for inline math display). For example `$\\sqrt{3x-1}+(1+x)^2$` becomes $\\sqrt{3x-1}+(1+x)^2.$ For math mode enclose the statements within the delimiter **\\$\\$**. For example, `$$ \\sin^2\\theta + \\cos^2\\theta = 1 $$`, is dispayed as:\n",
        "\n",
        "$$ \\sin^2\\theta + \\cos^2\\theta = 1 $$\n"
      ]
    },
    {
      "cell_type": "markdown",
      "metadata": {
        "id": "7bqjkGKwQSHW"
      },
      "source": [
        "## Adding and moving cells\n",
        "\n",
        "You can add new cells by using the **+ CODE** and **+ TEXT** buttons that show when you hover between cells. These buttons are also in the toolbar above the notebook where they can be used to add a cell below the currently selected cell.\n",
        "\n",
        "You can move a cell by selecting it and clicking **Cell Up** or **Cell Down** in the top toolbar. \n",
        "\n",
        "Consecutive cells can be selected by \"lasso selection\" by dragging from outside one cell and through the group.  Non-adjacent cells can be selected concurrently by clicking one and then holding down Ctrl while clicking another.  Similarly, using Shift instead of Ctrl will select all intermediate cells."
      ]
    },
    {
      "cell_type": "markdown",
      "metadata": {
        "id": "GOwlZRXEQSHZ"
      },
      "source": [
        "# Working with python\n",
        "Colaboratory is built on top of [Jupyter Notebook](https://jupyter.org/). Below are some examples of convenience functions provided."
      ]
    },
    {
      "cell_type": "markdown",
      "metadata": {
        "id": "RVuqWUXPQSHa"
      },
      "source": [
        "Long running python processes can be interrupted. Run the following cell and select **Runtime -> Interrupt execution** (*hotkey: Cmd/Ctrl-M I*) to stop execution."
      ]
    },
    {
      "cell_type": "code",
      "execution_count": 2,
      "metadata": {
        "cellView": "both",
        "colab": {
          "height": 235,
          "base_uri": "https://localhost:8080/"
        },
        "id": "d-S-3nYLQSHb",
        "outputId": "1f6bf2f5-21d2-4777-a3b2-cc0d36b28b19"
      },
      "outputs": [
        {
          "output_type": "stream",
          "name": "stdout",
          "text": [
            "Sleeping\n"
          ]
        },
        {
          "output_type": "error",
          "ename": "KeyboardInterrupt",
          "evalue": "ignored",
          "traceback": [
            "\u001b[0;31m---------------------------------------------------------------------------\u001b[0m",
            "\u001b[0;31mKeyboardInterrupt\u001b[0m                         Traceback (most recent call last)",
            "\u001b[0;32m<ipython-input-2-fb6d98dc021a>\u001b[0m in \u001b[0;36m<module>\u001b[0;34m()\u001b[0m\n\u001b[1;32m      1\u001b[0m \u001b[0;32mimport\u001b[0m \u001b[0mtime\u001b[0m\u001b[0;34m\u001b[0m\u001b[0;34m\u001b[0m\u001b[0m\n\u001b[1;32m      2\u001b[0m \u001b[0mprint\u001b[0m\u001b[0;34m(\u001b[0m\u001b[0;34m\"Sleeping\"\u001b[0m\u001b[0;34m)\u001b[0m\u001b[0;34m\u001b[0m\u001b[0;34m\u001b[0m\u001b[0m\n\u001b[0;32m----> 3\u001b[0;31m \u001b[0mtime\u001b[0m\u001b[0;34m.\u001b[0m\u001b[0msleep\u001b[0m\u001b[0;34m(\u001b[0m\u001b[0;36m30\u001b[0m\u001b[0;34m)\u001b[0m \u001b[0;31m# sleep for a while; interrupt me!\u001b[0m\u001b[0;34m\u001b[0m\u001b[0;34m\u001b[0m\u001b[0m\n\u001b[0m\u001b[1;32m      4\u001b[0m \u001b[0mprint\u001b[0m\u001b[0;34m(\u001b[0m\u001b[0;34m\"Done Sleeping\"\u001b[0m\u001b[0;34m)\u001b[0m\u001b[0;34m\u001b[0m\u001b[0;34m\u001b[0m\u001b[0m\n",
            "\u001b[0;31mKeyboardInterrupt\u001b[0m: "
          ]
        }
      ],
      "source": [
        "import time\n",
        "print(\"Sleeping\")\n",
        "time.sleep(30) # sleep for a while; interrupt me!\n",
        "print(\"Done Sleeping\")"
      ]
    },
    {
      "cell_type": "markdown",
      "metadata": {
        "id": "Wej_mEyXQSHc"
      },
      "source": [
        "## System aliases\n",
        "\n",
        "Jupyter includes shortcuts for common operations, such as ls:"
      ]
    },
    {
      "cell_type": "code",
      "execution_count": 5,
      "metadata": {
        "cellView": "both",
        "colab": {
          "base_uri": "https://localhost:8080/"
        },
        "id": "5OCYEvK5QSHf",
        "outputId": "95f171f3-af7b-422f-e872-ea014ff5c3d0"
      },
      "outputs": [
        {
          "output_type": "stream",
          "name": "stdout",
          "text": [
            "\u001b[0m\u001b[01;32mbash\u001b[0m           \u001b[01;32mhostname\u001b[0m       \u001b[37;41msu\u001b[0m\n",
            "\u001b[01;32mbunzip2\u001b[0m        \u001b[01;32mjournalctl\u001b[0m     \u001b[01;32msync\u001b[0m\n",
            "\u001b[01;32mbzcat\u001b[0m          \u001b[01;32mkill\u001b[0m           \u001b[01;32msystemctl\u001b[0m\n",
            "\u001b[01;36mbzcmp\u001b[0m          \u001b[01;32mkmod\u001b[0m           \u001b[01;36msystemd\u001b[0m\n",
            "\u001b[01;32mbzdiff\u001b[0m         \u001b[01;32mless\u001b[0m           \u001b[01;32msystemd-ask-password\u001b[0m\n",
            "\u001b[01;36mbzegrep\u001b[0m        \u001b[01;32mlessecho\u001b[0m       \u001b[01;32msystemd-escape\u001b[0m\n",
            "\u001b[01;32mbzexe\u001b[0m          \u001b[01;36mlessfile\u001b[0m       \u001b[01;32msystemd-hwdb\u001b[0m\n",
            "\u001b[01;36mbzfgrep\u001b[0m        \u001b[01;32mlesskey\u001b[0m        \u001b[01;32msystemd-inhibit\u001b[0m\n",
            "\u001b[01;32mbzgrep\u001b[0m         \u001b[01;32mlesspipe\u001b[0m       \u001b[01;32msystemd-machine-id-setup\u001b[0m\n",
            "\u001b[01;32mbzip2\u001b[0m          \u001b[01;32mln\u001b[0m             \u001b[01;32msystemd-notify\u001b[0m\n",
            "\u001b[01;32mbzip2recover\u001b[0m   \u001b[01;32mlogin\u001b[0m          \u001b[01;32msystemd-sysusers\u001b[0m\n",
            "\u001b[01;36mbzless\u001b[0m         \u001b[01;32mloginctl\u001b[0m       \u001b[01;32msystemd-tmpfiles\u001b[0m\n",
            "\u001b[01;32mbzmore\u001b[0m         \u001b[01;32mls\u001b[0m             \u001b[01;32msystemd-tty-ask-password-agent\u001b[0m\n",
            "\u001b[01;32mcat\u001b[0m            \u001b[01;32mlsblk\u001b[0m          \u001b[01;32mtar\u001b[0m\n",
            "\u001b[01;32mchgrp\u001b[0m          \u001b[01;36mlsmod\u001b[0m          \u001b[01;32mtempfile\u001b[0m\n",
            "\u001b[01;32mchmod\u001b[0m          \u001b[01;32mmkdir\u001b[0m          \u001b[01;32mtouch\u001b[0m\n",
            "\u001b[01;32mchown\u001b[0m          \u001b[01;32mmknod\u001b[0m          \u001b[01;32mtrue\u001b[0m\n",
            "\u001b[01;32mcp\u001b[0m             \u001b[01;32mmktemp\u001b[0m         \u001b[01;32mudevadm\u001b[0m\n",
            "\u001b[01;32mdash\u001b[0m           \u001b[01;32mmore\u001b[0m           \u001b[01;32mulockmgr_server\u001b[0m\n",
            "\u001b[01;32mdate\u001b[0m           \u001b[37;41mmount\u001b[0m          \u001b[37;41mumount\u001b[0m\n",
            "\u001b[01;32mdd\u001b[0m             \u001b[01;32mmountpoint\u001b[0m     \u001b[01;32muname\u001b[0m\n",
            "\u001b[01;32mdf\u001b[0m             \u001b[01;32mmv\u001b[0m             \u001b[01;32muncompress\u001b[0m\n",
            "\u001b[01;32mdir\u001b[0m            \u001b[01;32mnetworkctl\u001b[0m     \u001b[01;32mvdir\u001b[0m\n",
            "\u001b[01;32mdmesg\u001b[0m          \u001b[01;36mnisdomainname\u001b[0m  \u001b[01;32mwdctl\u001b[0m\n",
            "\u001b[01;36mdnsdomainname\u001b[0m  \u001b[01;36mpidof\u001b[0m          \u001b[01;32mwhich\u001b[0m\n",
            "\u001b[01;36mdomainname\u001b[0m     \u001b[01;32mps\u001b[0m             \u001b[01;36mypdomainname\u001b[0m\n",
            "\u001b[01;32mecho\u001b[0m           \u001b[01;32mpwd\u001b[0m            \u001b[01;32mzcat\u001b[0m\n",
            "\u001b[01;32megrep\u001b[0m          \u001b[01;36mrbash\u001b[0m          \u001b[01;32mzcmp\u001b[0m\n",
            "\u001b[01;32mfalse\u001b[0m          \u001b[01;32mreadlink\u001b[0m       \u001b[01;32mzdiff\u001b[0m\n",
            "\u001b[01;32mfgrep\u001b[0m          \u001b[01;32mrm\u001b[0m             \u001b[01;32mzegrep\u001b[0m\n",
            "\u001b[01;32mfindmnt\u001b[0m        \u001b[01;32mrmdir\u001b[0m          \u001b[01;32mzfgrep\u001b[0m\n",
            "\u001b[01;32mfuser\u001b[0m          \u001b[01;32mrun-parts\u001b[0m      \u001b[01;32mzforce\u001b[0m\n",
            "\u001b[37;41mfusermount\u001b[0m     \u001b[01;32msed\u001b[0m            \u001b[01;32mzgrep\u001b[0m\n",
            "\u001b[01;32mgrep\u001b[0m           \u001b[01;36msh\u001b[0m             \u001b[01;32mzless\u001b[0m\n",
            "\u001b[01;32mgunzip\u001b[0m         \u001b[01;36msh.distrib\u001b[0m     \u001b[01;32mzmore\u001b[0m\n",
            "\u001b[01;32mgzexe\u001b[0m          \u001b[01;32msleep\u001b[0m          \u001b[01;32mznew\u001b[0m\n",
            "\u001b[01;32mgzip\u001b[0m           \u001b[01;32mstty\u001b[0m\n"
          ]
        }
      ],
      "source": [
        "!ls --color /bin"
      ]
    },
    {
      "cell_type": "markdown",
      "metadata": {
        "id": "y8Da6JWKQSHh"
      },
      "source": [
        "That `!ls` probably generated a large output. You can select the cell and clear the output by either: \n",
        "\n",
        "1. Clicking on the clear output button (x) in the toolbar above the cell; or\n",
        "2. Right clicking the left gutter of the output area and selecting \"Clear output\" from the context menu.\n",
        "\n",
        "Execute any other process using `!` with string interpolation from python variables, and note the result can be assigned to a variable:"
      ]
    },
    {
      "cell_type": "code",
      "source": [
        "ls --color /bin # magic command"
      ],
      "metadata": {
        "id": "ajkb5YSFuhl_",
        "outputId": "e693141a-b074-4bb1-f659-22dbcb428bde",
        "colab": {
          "base_uri": "https://localhost:8080/"
        }
      },
      "execution_count": 8,
      "outputs": [
        {
          "output_type": "stream",
          "name": "stdout",
          "text": [
            "\u001b[0m\u001b[01;32mbash\u001b[0m*           \u001b[01;32mhostname\u001b[0m*       \u001b[37;41msu\u001b[0m*\n",
            "\u001b[01;32mbunzip2\u001b[0m*        \u001b[01;32mjournalctl\u001b[0m*     \u001b[01;32msync\u001b[0m*\n",
            "\u001b[01;32mbzcat\u001b[0m*          \u001b[01;32mkill\u001b[0m*           \u001b[01;32msystemctl\u001b[0m*\n",
            "\u001b[01;36mbzcmp\u001b[0m@          \u001b[01;32mkmod\u001b[0m*           \u001b[01;36msystemd\u001b[0m@\n",
            "\u001b[01;32mbzdiff\u001b[0m*         \u001b[01;32mless\u001b[0m*           \u001b[01;32msystemd-ask-password\u001b[0m*\n",
            "\u001b[01;36mbzegrep\u001b[0m@        \u001b[01;32mlessecho\u001b[0m*       \u001b[01;32msystemd-escape\u001b[0m*\n",
            "\u001b[01;32mbzexe\u001b[0m*          \u001b[01;36mlessfile\u001b[0m@       \u001b[01;32msystemd-hwdb\u001b[0m*\n",
            "\u001b[01;36mbzfgrep\u001b[0m@        \u001b[01;32mlesskey\u001b[0m*        \u001b[01;32msystemd-inhibit\u001b[0m*\n",
            "\u001b[01;32mbzgrep\u001b[0m*         \u001b[01;32mlesspipe\u001b[0m*       \u001b[01;32msystemd-machine-id-setup\u001b[0m*\n",
            "\u001b[01;32mbzip2\u001b[0m*          \u001b[01;32mln\u001b[0m*             \u001b[01;32msystemd-notify\u001b[0m*\n",
            "\u001b[01;32mbzip2recover\u001b[0m*   \u001b[01;32mlogin\u001b[0m*          \u001b[01;32msystemd-sysusers\u001b[0m*\n",
            "\u001b[01;36mbzless\u001b[0m@         \u001b[01;32mloginctl\u001b[0m*       \u001b[01;32msystemd-tmpfiles\u001b[0m*\n",
            "\u001b[01;32mbzmore\u001b[0m*         \u001b[01;32mls\u001b[0m*             \u001b[01;32msystemd-tty-ask-password-agent\u001b[0m*\n",
            "\u001b[01;32mcat\u001b[0m*            \u001b[01;32mlsblk\u001b[0m*          \u001b[01;32mtar\u001b[0m*\n",
            "\u001b[01;32mchgrp\u001b[0m*          \u001b[01;36mlsmod\u001b[0m@          \u001b[01;32mtempfile\u001b[0m*\n",
            "\u001b[01;32mchmod\u001b[0m*          \u001b[01;32mmkdir\u001b[0m*          \u001b[01;32mtouch\u001b[0m*\n",
            "\u001b[01;32mchown\u001b[0m*          \u001b[01;32mmknod\u001b[0m*          \u001b[01;32mtrue\u001b[0m*\n",
            "\u001b[01;32mcp\u001b[0m*             \u001b[01;32mmktemp\u001b[0m*         \u001b[01;32mudevadm\u001b[0m*\n",
            "\u001b[01;32mdash\u001b[0m*           \u001b[01;32mmore\u001b[0m*           \u001b[01;32mulockmgr_server\u001b[0m*\n",
            "\u001b[01;32mdate\u001b[0m*           \u001b[37;41mmount\u001b[0m*          \u001b[37;41mumount\u001b[0m*\n",
            "\u001b[01;32mdd\u001b[0m*             \u001b[01;32mmountpoint\u001b[0m*     \u001b[01;32muname\u001b[0m*\n",
            "\u001b[01;32mdf\u001b[0m*             \u001b[01;32mmv\u001b[0m*             \u001b[01;32muncompress\u001b[0m*\n",
            "\u001b[01;32mdir\u001b[0m*            \u001b[01;32mnetworkctl\u001b[0m*     \u001b[01;32mvdir\u001b[0m*\n",
            "\u001b[01;32mdmesg\u001b[0m*          \u001b[01;36mnisdomainname\u001b[0m@  \u001b[01;32mwdctl\u001b[0m*\n",
            "\u001b[01;36mdnsdomainname\u001b[0m@  \u001b[01;36mpidof\u001b[0m@          \u001b[01;32mwhich\u001b[0m*\n",
            "\u001b[01;36mdomainname\u001b[0m@     \u001b[01;32mps\u001b[0m*             \u001b[01;36mypdomainname\u001b[0m@\n",
            "\u001b[01;32mecho\u001b[0m*           \u001b[01;32mpwd\u001b[0m*            \u001b[01;32mzcat\u001b[0m*\n",
            "\u001b[01;32megrep\u001b[0m*          \u001b[01;36mrbash\u001b[0m@          \u001b[01;32mzcmp\u001b[0m*\n",
            "\u001b[01;32mfalse\u001b[0m*          \u001b[01;32mreadlink\u001b[0m*       \u001b[01;32mzdiff\u001b[0m*\n",
            "\u001b[01;32mfgrep\u001b[0m*          \u001b[01;32mrm\u001b[0m*             \u001b[01;32mzegrep\u001b[0m*\n",
            "\u001b[01;32mfindmnt\u001b[0m*        \u001b[01;32mrmdir\u001b[0m*          \u001b[01;32mzfgrep\u001b[0m*\n",
            "\u001b[01;32mfuser\u001b[0m*          \u001b[01;32mrun-parts\u001b[0m*      \u001b[01;32mzforce\u001b[0m*\n",
            "\u001b[37;41mfusermount\u001b[0m*     \u001b[01;32msed\u001b[0m*            \u001b[01;32mzgrep\u001b[0m*\n",
            "\u001b[01;32mgrep\u001b[0m*           \u001b[01;36msh\u001b[0m@             \u001b[01;32mzless\u001b[0m*\n",
            "\u001b[01;32mgunzip\u001b[0m*         \u001b[01;36msh.distrib\u001b[0m@     \u001b[01;32mzmore\u001b[0m*\n",
            "\u001b[01;32mgzexe\u001b[0m*          \u001b[01;32msleep\u001b[0m*          \u001b[01;32mznew\u001b[0m*\n",
            "\u001b[01;32mgzip\u001b[0m*           \u001b[01;32mstty\u001b[0m*\n"
          ]
        }
      ]
    },
    {
      "cell_type": "code",
      "execution_count": 10,
      "metadata": {
        "cellView": "both",
        "colab": {
          "base_uri": "https://localhost:8080/"
        },
        "id": "zqGrv0blQSHj",
        "outputId": "643efe9a-b775-45fb-c823-4e34666729f0"
      },
      "outputs": [
        {
          "output_type": "execute_result",
          "data": {
            "text/plain": [
              "['Colaboratory is great!', 'Colaboratory is great!']"
            ]
          },
          "metadata": {},
          "execution_count": 10
        }
      ],
      "source": [
        "message = 'Colaboratory is great!'\n",
        "foo = !echo -e '$message\\n$message'\n",
        "foo"
      ]
    },
    {
      "cell_type": "markdown",
      "metadata": {
        "id": "qM4myQGfQboQ"
      },
      "source": [
        "## Magics\n",
        "Colaboratory shares the notion of magics from Jupyter. There are shorthand annotations that change how a cell's text is executed. To learn more, see [Jupyter's magics page](http://nbviewer.jupyter.org/github/ipython/ipython/blob/1.x/examples/notebooks/Cell%20Magics.ipynb). \n"
      ]
    },
    {
      "cell_type": "code",
      "execution_count": 11,
      "metadata": {
        "cellView": "both",
        "colab": {
          "height": 38,
          "base_uri": "https://localhost:8080/"
        },
        "id": "odfM-_GxWbCy",
        "outputId": "24ca9c6d-66aa-476e-8610-1411e3aaed1b"
      },
      "outputs": [
        {
          "output_type": "display_data",
          "data": {
            "text/html": [
              "<marquee style='width: 30%; color: blue;'><b>Whee!</b></marquee>"
            ],
            "text/plain": [
              "<IPython.core.display.HTML object>"
            ]
          },
          "metadata": {}
        }
      ],
      "source": [
        "%%html\n",
        "<marquee style='width: 30%; color: blue;'><b>Whee!</b></marquee>"
      ]
    },
    {
      "cell_type": "code",
      "execution_count": 12,
      "metadata": {
        "colab": {
          "height": 221,
          "base_uri": "https://localhost:8080/"
        },
        "id": "_YrTcK7k22Fp",
        "outputId": "ebe1b85a-c880-4b57-b890-80180a41012c"
      },
      "outputs": [
        {
          "output_type": "display_data",
          "data": {
            "text/html": [
              "<svg xmlns=\"http://www.w3.org/2000/svg\" viewBox=\"0 0 450 400\" width=\"200\" height=\"200\">\n",
              "  <rect x=\"80\" y=\"60\" width=\"250\" height=\"250\" rx=\"20\" style=\"fill:red; stroke:black; fill-opacity:0.7\" />\n",
              "  <rect x=\"180\" y=\"110\" width=\"250\" height=\"250\" rx=\"40\" style=\"fill:blue; stroke:black; fill-opacity:0.5;\" />\n",
              "</svg>"
            ],
            "text/plain": [
              "<IPython.core.display.HTML object>"
            ]
          },
          "metadata": {}
        }
      ],
      "source": [
        "%%html\n",
        "<svg xmlns=\"http://www.w3.org/2000/svg\" viewBox=\"0 0 450 400\" width=\"200\" height=\"200\">\n",
        "  <rect x=\"80\" y=\"60\" width=\"250\" height=\"250\" rx=\"20\" style=\"fill:red; stroke:black; fill-opacity:0.7\" />\n",
        "  <rect x=\"180\" y=\"110\" width=\"250\" height=\"250\" rx=\"40\" style=\"fill:blue; stroke:black; fill-opacity:0.5;\" />\n",
        "</svg>"
      ]
    },
    {
      "cell_type": "markdown",
      "metadata": {
        "id": "d4L9TOP9QSHn"
      },
      "source": [
        "## Automatic completions and exploring code\n",
        "\n",
        "Colab provides automatic completions to explore attributes of Python objects, as well as to quickly view documentation strings. As an example, first run the following cell to import the  [`numpy`](http://www.numpy.org) module."
      ]
    },
    {
      "cell_type": "code",
      "execution_count": 13,
      "metadata": {
        "cellView": "both",
        "id": "Q0JKWcmtQSHp"
      },
      "outputs": [],
      "source": [
        "import numpy as np"
      ]
    },
    {
      "cell_type": "markdown",
      "metadata": {
        "id": "1M890-bXeyYp"
      },
      "source": [
        "If you now insert your cursor after `np` and press **Period**(`.`), you will see the list of available completions within the `np` module. Completions can be opened again by using **Ctrl+Space**."
      ]
    },
    {
      "cell_type": "code",
      "execution_count": 14,
      "metadata": {
        "cellView": "both",
        "colab": {
          "base_uri": "https://localhost:8080/"
        },
        "id": "j6QRIfUHQSHq",
        "outputId": "8eda8476-6547-4617-ec0b-829dbf4fd46d"
      },
      "outputs": [
        {
          "output_type": "execute_result",
          "data": {
            "text/plain": [
              "<module 'numpy' from '/usr/local/lib/python3.7/dist-packages/numpy/__init__.py'>"
            ]
          },
          "metadata": {},
          "execution_count": 14
        }
      ],
      "source": [
        "np"
      ]
    },
    {
      "cell_type": "markdown",
      "metadata": {
        "id": "g6MfomFhQSHs"
      },
      "source": [
        "If you type an open parenthesis after any function or class in the module, you will see a pop-up of its documentation string:"
      ]
    },
    {
      "cell_type": "code",
      "execution_count": 16,
      "metadata": {
        "cellView": "both",
        "colab": {
          "base_uri": "https://localhost:8080/"
        },
        "id": "SD0XnrVhQSHt",
        "outputId": "0af7ed2e-c18d-4f35-daa6-af6248bed41f"
      },
      "outputs": [
        {
          "output_type": "execute_result",
          "data": {
            "text/plain": [
              "numpy.ndarray"
            ]
          },
          "metadata": {},
          "execution_count": 16
        }
      ],
      "source": [
        "np.ndarray"
      ]
    },
    {
      "cell_type": "markdown",
      "metadata": {
        "id": "GVIVDgdaRjPQ"
      },
      "source": [
        "The documentation can be opened again using **Ctrl+Shift+Space** or you can view the documentation for method by mouse hovering over the method name.\n",
        "\n",
        "When hovering over the method name the `Open in tab` link will open the documentation in a persistent pane. The `View source` link will navigate to the source code for the method."
      ]
    },
    {
      "cell_type": "markdown",
      "metadata": {
        "id": "TYTBdJXxfqiJ"
      },
      "source": [
        "## Exception Formatting"
      ]
    },
    {
      "cell_type": "markdown",
      "metadata": {
        "id": "4bqAVK-aQSHx"
      },
      "source": [
        "Exceptions are formatted nicely in Colab outputs:"
      ]
    },
    {
      "cell_type": "code",
      "execution_count": 17,
      "metadata": {
        "cellView": "both",
        "colab": {
          "base_uri": "https://localhost:8080/",
          "height": 200
        },
        "id": "CrJf1PEmQSHx",
        "outputId": "d88217f2-6942-42f1-ed84-b72713a8b459"
      },
      "outputs": [
        {
          "output_type": "error",
          "ename": "ZeroDivisionError",
          "evalue": "ignored",
          "traceback": [
            "\u001b[0;31m---------------------------------------------------------------------------\u001b[0m",
            "\u001b[0;31mZeroDivisionError\u001b[0m                         Traceback (most recent call last)",
            "\u001b[0;32m<ipython-input-17-d93e730d8440>\u001b[0m in \u001b[0;36m<module>\u001b[0;34m()\u001b[0m\n\u001b[1;32m      1\u001b[0m \u001b[0mx\u001b[0m \u001b[0;34m=\u001b[0m \u001b[0;36m1\u001b[0m\u001b[0;34m\u001b[0m\u001b[0;34m\u001b[0m\u001b[0m\n\u001b[1;32m      2\u001b[0m \u001b[0my\u001b[0m \u001b[0;34m=\u001b[0m \u001b[0;36m4\u001b[0m\u001b[0;34m\u001b[0m\u001b[0;34m\u001b[0m\u001b[0m\n\u001b[0;32m----> 3\u001b[0;31m \u001b[0mz\u001b[0m \u001b[0;34m=\u001b[0m \u001b[0my\u001b[0m\u001b[0;34m/\u001b[0m\u001b[0;34m(\u001b[0m\u001b[0;36m1\u001b[0m\u001b[0;34m-\u001b[0m\u001b[0mx\u001b[0m\u001b[0;34m)\u001b[0m\u001b[0;34m\u001b[0m\u001b[0;34m\u001b[0m\u001b[0m\n\u001b[0m",
            "\u001b[0;31mZeroDivisionError\u001b[0m: division by zero"
          ]
        }
      ],
      "source": [
        "x = 1\n",
        "y = 4\n",
        "z = y/(1-x)"
      ]
    },
    {
      "cell_type": "markdown",
      "metadata": {
        "id": "7cRnhv_7N4Pa"
      },
      "source": [
        "## Rich, interactive outputs\n",
        "Until now all of the generated outputs have been text, but they can be more interesting, like the chart below. "
      ]
    },
    {
      "cell_type": "code",
      "execution_count": 18,
      "metadata": {
        "colab": {
          "height": 281,
          "base_uri": "https://localhost:8080/"
        },
        "id": "JVXnTqyE9RET",
        "outputId": "7206a688-9a9b-40ee-b04d-26dde100ba2e"
      },
      "outputs": [
        {
          "output_type": "display_data",
          "data": {
            "image/png": "[encoded data removed]",
            "text/plain": [
              "<Figure size 432x288 with 1 Axes>"
            ]
          },
          "metadata": {
            "needs_background": "light"
          }
        }
      ],
      "source": [
        "import numpy as np\n",
        "from matplotlib import pyplot as plt\n",
        "\n",
        "ys = 200 + np.random.randn(100)\n",
        "x = [x for x in range(len(ys))]\n",
        "\n",
        "plt.plot(x, ys, '-')\n",
        "plt.fill_between(x, ys, 195, where=(ys > 198), facecolor='g', alpha=0.6)\n",
        "\n",
        "plt.title(\"Fills and Alpha Example\")\n",
        "plt.show()"
      ]
    },
    {
      "cell_type": "markdown",
      "metadata": {
        "id": "aro-UJgUQSH1"
      },
      "source": [
        "# Integration with Drive\n",
        "\n",
        "Colaboratory is integrated with Google Drive. It allows you to share, comment, and collaborate on the same document with multiple people:\n",
        "\n",
        "* The **SHARE** button (top-right of the toolbar) allows you to share the notebook and control permissions set on it.\n",
        "\n",
        "* **File->Make a Copy** creates a copy of the notebook in Drive.\n",
        "\n",
        "* **File->Save** saves the File to Drive. **File->Save and checkpoint** pins the version so it doesn't get deleted from the revision history. \n",
        "\n",
        "* **File->Revision history** shows the notebook's revision history. "
      ]
    },
    {
      "cell_type": "markdown",
      "metadata": {
        "id": "4hfV37gxpP_c"
      },
      "source": [
        "## Commenting on a cell\n",
        "You can comment on a Colaboratory notebook like you would on a Google Document. Comments are attached to cells, and are displayed next to the cell they refer to. If you have **comment-only** permissions, you will see a comment button on the top right of the cell when you hover over it.\n",
        "\n",
        "If you have edit or comment permissions you can comment on a cell in one of three ways: \n",
        "\n",
        "1. Select a cell and click the comment button in the toolbar above the top-right corner of the cell.\n",
        "1. Right click a text cell and select **Add a comment** from the context menu.\n",
        "3. Use the shortcut **Ctrl+Shift+M** to add a comment to the currently selected cell. \n",
        "\n",
        "You can resolve and reply to comments, and you can target comments to specific collaborators by typing *+[email address]* (e.g., `+user@domain.com`). Addressed collaborators will be emailed. \n",
        "\n",
        "The Comment button in the top-right corner of the page shows all comments attached to the notebook."
      ]
    }
  ],
  "metadata": {
    "colab": {
      "collapsed_sections": [],
      "name": "Overview of Colaboratory Features",
      "toc_visible": true,
      "provenance": [],
      "include_colab_link": true
    },
    "kernelspec": {
      "display_name": "Python 3",
      "name": "python3"
    }
  },
  "nbformat": 4,
  "nbformat_minor": 0
}